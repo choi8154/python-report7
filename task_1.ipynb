{
 "cells": [
  {
   "cell_type": "markdown",
   "metadata": {},
   "source": [
    "안녕하세요. 수강생 여러분~! Chapter33 ~ 41 수업은 잘 들으셨나요?\n",
    "\n",
    "Chapter33 ~ 41의 수업 내용을 바탕으로 아래 문제를 풀어주시면 됩니다.\n",
    "\n",
    "\n",
    "<br>\n",
    "\n",
    "\n",
    "[**답변 입력 방법**]\n",
    "\n",
    "문제 아래에 있는 코드 입력창에 정답코드를 작성하신 후  __▷ 버튼을 클릭해 코드를 실행__ 해보세요<br>"
   ]
  },
  {
   "cell_type": "markdown",
   "metadata": {},
   "source": [
    "---"
   ]
  },
  {
   "cell_type": "markdown",
   "metadata": {},
   "source": [
    "[문제 1]\n",
    "\n",
    "사용자로부터 두 개의 숫자를 입력받아 나눗셈을 수행하는 프로그램을 작성하세요. \n",
    "\n",
    "[예외처리]\n",
    "- 입력 값이 숫자가 아닐 때 발생할 수 있는 ValueError\n",
    "- 나누는 수가 0일 때 발생할 수 있는 ZeroDivisionError\n",
    "- 위 2가지 예외처리 후 사용자에게 이해하기 쉬운 메시지 작성 후 출력되도록 코드를 작성"
   ]
  },
  {
   "cell_type": "code",
   "execution_count": 6,
   "metadata": {},
   "outputs": [
    {
     "name": "stdout",
     "output_type": "stream",
     "text": [
      "0.5\n"
     ]
    }
   ],
   "source": [
    "def div():\n",
    "    try:\n",
    "        A, B = map(int, input('나눌 수를 입력하시오:').split())\n",
    "        print(A / B)\n",
    "    except ValueError as e:\n",
    "        print('숫자만 입력이 가능합니다.')\n",
    "    except ZeroDivisionError as e:\n",
    "        print('0으로 나눌수 없습니다.')\n",
    "\n",
    "div()"
   ]
  },
  {
   "cell_type": "markdown",
   "metadata": {},
   "source": [
    "---"
   ]
  },
  {
   "cell_type": "markdown",
   "metadata": {},
   "source": [
    "[문제 2]\n",
    "\n",
    "파일을 읽어서 내용을 출력하는 프로그램을 작성하세요. \n",
    "\n",
    "- 파일이 존재하지 않을 때 발생하는 FileNotFoundError를 처리\n",
    "- 파일이 존재하지 않을 경우 \"파일을 찾을 수 없습니다.\"라는 메시지를 출력"
   ]
  },
  {
   "cell_type": "code",
   "execution_count": 10,
   "metadata": {},
   "outputs": [
    {
     "name": "stdout",
     "output_type": "stream",
     "text": [
      "파일을 찾을 수 없습니다.\n"
     ]
    }
   ],
   "source": [
    "def read_txt():\n",
    "    file_name = input('읽을 파일을 이름을 입력 하시오. 예)filename.txt:')\n",
    "    try:\n",
    "        with open(file_name, 'r') as f:\n",
    "            f.read()\n",
    "    except FileNotFoundError as e:\n",
    "        print('파일을 찾을 수 없습니다.')\n",
    "\n",
    "read_txt()"
   ]
  },
  {
   "cell_type": "markdown",
   "metadata": {},
   "source": [
    "---"
   ]
  },
  {
   "cell_type": "markdown",
   "metadata": {},
   "source": [
    "[문제 3]\n",
    "\n",
    "사용자로부터 여러 개의 숫자를 입력받아 리스트에 저장한 후, 사용자가 'done'이라고 입력할 때까지 계속 입력받으세요. \n",
    "\n",
    "- 입력 중 숫자가 아닌 값이 입력되면 ValueError를 처리\n",
    "- 숫자 외 값이 입력된 경우 어떤 값이 잘못 입력되었는지 사용자에게 알려주는 문구 출력<br>\n",
    "  (예: f\"잘못된 값: {변수}. 숫자를 입력해주세요.\")\n",
    "\n"
   ]
  },
  {
   "cell_type": "code",
   "execution_count": 11,
   "metadata": {},
   "outputs": [
    {
     "name": "stdout",
     "output_type": "stream",
     "text": [
      "[]\n"
     ]
    }
   ],
   "source": [
    "def num_in_list():\n",
    "    nums = []\n",
    "    while True:\n",
    "        try:\n",
    "            num = input('리스트에 넣을 숫자를 입력하시오(종료를 원할 시 done 입력):')\n",
    "            if num == 'done':\n",
    "                break\n",
    "            if type(int(num)) != type(1):\n",
    "                raise ValueError\n",
    "            else :\n",
    "                nums.append(int(num))\n",
    "        except ValueError as e:\n",
    "            print(f'잣못된 값: {num}. 숫자를 입력해주세요.')\n",
    "            continue\n",
    "    print(nums)\n",
    "\n",
    "num_in_list()"
   ]
  },
  {
   "cell_type": "markdown",
   "metadata": {},
   "source": [
    "---"
   ]
  },
  {
   "cell_type": "markdown",
   "metadata": {},
   "source": [
    "[문제 4]\n",
    "\n",
    "사용자 정의 예외 NegativeNumberError를 생성하고, 사용자로부터 숫자를 입력받아 음수일 경우 NegativeNumberError를 발생시키는 프로그램을 작성하세요. \n",
    "\n",
    "- 예외 처리 구문을 사용하여 음수 입력 시 \"양수를 입력해주세요.\"라는 메시지를 출력"
   ]
  },
  {
   "cell_type": "code",
   "execution_count": null,
   "metadata": {},
   "outputs": [],
   "source": [
    "\n",
    "\n",
    "def Neg_num_filter():\n",
    "    num = int(input('숫자르 입력하시오:'))\n",
    "    if num < 0:\n",
    "        raise NegativeNumberError()..\n",
    "    "
   ]
  },
  {
   "cell_type": "markdown",
   "metadata": {},
   "source": [
    "---"
   ]
  },
  {
   "cell_type": "markdown",
   "metadata": {},
   "source": [
    "[문제 5]\n",
    "\n",
    "datetime 모듈을 사용하여 현재 날짜와 시간을 출력하는 프로그램을 작성하세요. \n",
    "\n",
    "또한, 사용자로부터 태어난 년도를 입력받아 현재 나이를 계산하여 출력하세요."
   ]
  },
  {
   "cell_type": "code",
   "execution_count": 8,
   "metadata": {},
   "outputs": [
    {
     "name": "stdout",
     "output_type": "stream",
     "text": [
      "27\n"
     ]
    }
   ],
   "source": [
    "import datetime\n",
    "\n",
    "def age_cal():\n",
    "    birth = int(input('태어난 년도를 입력하시오:'))\n",
    "    years = datetime.date(year=birth, day=1, month=1)\n",
    "    year_now = datetime.date(2025, 4, 5)\n",
    "    print(year_now.year - years.year)\n",
    "\n",
    "age_cal()"
   ]
  },
  {
   "cell_type": "markdown",
   "metadata": {},
   "source": [
    "---"
   ]
  },
  {
   "cell_type": "markdown",
   "metadata": {},
   "source": [
    "[문제 6]\n",
    "\n",
    "requests 모듈을 사용하여, 웹 페이지의 HTML을 가져오는 간단한 웹 스크레이퍼를 작성하세요.\n",
    "\n",
    "'https://kream.co.kr/'에서<br> \n",
    "데이터를 가져와서 상태 코드와 HTML의 첫 100자를 출력하세요.<br>\n",
    "(실습 전 requests 모듈을 설치해야 함)"
   ]
  },
  {
   "cell_type": "code",
   "execution_count": 9,
   "metadata": {},
   "outputs": [
    {
     "name": "stdout",
     "output_type": "stream",
     "text": [
      "<!DOCTYPE html>\n",
      "<html lang=\"ko\">\n",
      "<head>\n",
      "<meta name=\"robots\" content=\"noindex, nofollow\" />\n",
      "<meta htt\n"
     ]
    }
   ],
   "source": [
    "import requests\n",
    "\n",
    "headers = {\n",
    "    'User-Agent': 'Mozilla/5.0 (Windows NT 10.0; Win64; x64) AppleWebKit/537.36 (KHTML, like Gecko) Chrome/91.0.4472.124 Safari/537.36'\n",
    "}\n",
    "\n",
    "response = requests.get('https://kream.co.kr/', headers=headers)\n",
    "\n",
    "print(response.text[:100])\n"
   ]
  },
  {
   "cell_type": "markdown",
   "metadata": {},
   "source": [
    "---"
   ]
  },
  {
   "cell_type": "markdown",
   "metadata": {},
   "source": [
    "[문제 7]\n",
    "\n",
    "함수 실행 시간을 측정하는 데코레이터 timer_decorator를 작성하세요. \n",
    "\n",
    "임의의 함수가 실행되는 시간을 측정하여 \"함수 실행 시간: x.xx초\" 형태로 출력하세요."
   ]
  },
  {
   "cell_type": "code",
   "execution_count": 4,
   "metadata": {},
   "outputs": [
    {
     "name": "stdout",
     "output_type": "stream",
     "text": [
      "실행 중...\n",
      "함수 실행 시간: 0.00초\n"
     ]
    }
   ],
   "source": [
    "import time\n",
    "\n",
    "def timer_decorator(func):\n",
    "    def wrapper(*args, **kwargs):\n",
    "        start = time.time()\n",
    "        result = func(*args, **kwargs)\n",
    "        end = time.time()\n",
    "        print(f'함수 실행 시간: {end - start:.2f}초')\n",
    "        return result\n",
    "    return wrapper\n",
    "\n",
    "@timer_decorator\n",
    "def test():\n",
    "    print(\"실행 중...\")\n",
    "\n",
    "test()"
   ]
  },
  {
   "cell_type": "markdown",
   "metadata": {},
   "source": [
    "---"
   ]
  },
  {
   "cell_type": "markdown",
   "metadata": {},
   "source": [
    "[문제 8]\n",
    "\n",
    "여러분이 자주 사용하는 수학적 연산<br>\n",
    "(예: 삼각형 넓이, 원의 넓이, 직육면체의 넓이)을 수행하는 함수들을 포함하는 mymath.py라는 이름의 모듈을 만드세요. \n",
    "\n",
    "이 모듈을 사용하여 작성된 함수들을 실제로 임포트하고 사용하는 간단한 프로그램을 작성하세요."
   ]
  },
  {
   "cell_type": "code",
   "execution_count": 5,
   "metadata": {},
   "outputs": [
    {
     "name": "stdout",
     "output_type": "stream",
     "text": [
      "6.0\n",
      "78.5\n",
      "52\n"
     ]
    }
   ],
   "source": [
    "from mymath import Math\n",
    "\n",
    "\n",
    "f=Math()\n",
    "\n",
    "print(f.tri(4, 3))\n",
    "\n",
    "print(f.cir(5))\n",
    "\n",
    "print(f.cub(2, 3, 4))"
   ]
  },
  {
   "cell_type": "markdown",
   "metadata": {},
   "source": [
    "---"
   ]
  },
  {
   "cell_type": "markdown",
   "metadata": {},
   "source": [
    "[문제 9]\n",
    "\n",
    "animals라는 패키지를 만들고, 이 패키지 내에 mammals, birds라는 두 개의 서브 모듈을 생성하세요. \n",
    "\n",
    "- 각 모듈에는 최소한 한 개 이상의 동물에 관한 클래스를 정의하세요<br>\n",
    "  (예: mammals에는 Dog, birds에는 Eagle)\n",
    "- 이 패키지와 모듈을 사용하여 동물들의 정보를 출력하는 프로그램을 작성\n",
    "\n",
    "폴더 및 파일 구조\n",
    "```\n",
    "animals/(폴더)\n",
    "├── __init__.py\n",
    "├── mammals.py\n",
    "└── birds.py\n",
    "```\n"
   ]
  },
  {
   "cell_type": "code",
   "execution_count": 6,
   "metadata": {},
   "outputs": [
    {
     "name": "stdout",
     "output_type": "stream",
     "text": [
      "천둥벌조각몽둥새\n",
      "\n",
      "        🦜 천둥벌조각몽둥새 (Thunderclaw Boltbeak)\n",
      "        🌍 서식지\n",
      "\n",
      "        분포 지역: 한국의 산악지대와 고산지대의 고산식물 군락지\n",
      "        서식지 특징: 안개가 자주 끼고, 기온 변화가 큰 지역\n",
      "\n",
      "        🐦 외형\n",
      "\n",
      "        크기: 몸길이 약 25cm, 날개폭 약 50cm\n",
      "        깃털 색상: 짙은 회색과 검은색의 혼합, 날개 끝은 흰색으로 테두리\n",
      "        특징적 외모: 날개 끝에 번개 모양의 흰색 깃털이 있어 '천둥'이라는 이름에 걸맞은 외형\n",
      "\n",
      "        🎶 울음소리\n",
      "\n",
      "        특징: 천둥소리와 비슷한 우렁찬 울음소리로, 멀리서도 들을 수 있음\n",
      "        의미: 주로 영역을 표시하거나, 짝을 유인하는 데 사용됨\n",
      "\n",
      "        🍽️ 식성\n",
      "\n",
      "        주식: 곤충, 작은 파충류, 고산식물의 씨앗\n",
      "        사냥 방식: 빠른 비행과 예리한 발톱을 이용해 먹이를 포획\n",
      "\n",
      "        🏠 번식\n",
      "\n",
      "        번식기: 봄철, 4~5월\n",
      "        둥지 위치: 고산식물 군락지의 높은 나무나 바위 틈\n",
      "        알 수: 2~3개, 흰색에 갈색 반점이 있음\n",
      "\n",
      "        ⚡ 특별한 능력\n",
      "\n",
      "        전기 감지 능력: 천둥벌조각몽둥새는 전기장을 감지할 수 있는 능력을 가지고 있어, 날씨 변화나 먹이의 위치를 파악하는 데 도움을 줌\n",
      "        빠른 비행: 날개 끝의 특수한 깃털 구조로 인해 공기 저항을 최소화하며, 빠른 속도로 비행할 수 있음\n",
      "\n",
      "        factos : 사실 이런건 없음\n",
      "🧍 인간 (Homo sapiens)\n",
      "        🌍 서식지\n",
      "\n",
      "        분포 지역: 지구 전역\n",
      "        환경: 도시, 숲, 사막, 산악, 해안 등 모든 환경에 적응 가능\n",
      "        특징: 환경에 따라 다양한 생활 방식을 발전시킴\n",
      "\n",
      "        🐦 외형\n",
      "\n",
      "        키: 평균 1.6~1.8m (성인 기준)\n",
      "        체형: 직립보행을 위한 두 다리, 손의 자유로운 움직임\n",
      "        피부, 머리카락, 눈: 유전적 다양성으로 색상과 형태가 다양함\n",
      "        특징적 외모: 얼굴 표정과 손가락 끝의 민첩한 움직임으로 정교한 의사소통 가능\n",
      "\n",
      "        🎶 의사소통\n",
      "\n",
      "        언어: 소리를 이용한 말과, 글자, 기호를 이용한 기록 가능\n",
      "        표정과 몸짓: 감정을 전달하는 비언어적 신호\n",
      "        기술적 도구 활용: 손과 두뇌를 사용하여 언어 외에도 도구·기계 조작 가능\n",
      "\n",
      "        🍽️ 식성\n",
      "\n",
      "        잡식성: 고기, 채소, 곡물, 과일 등 다양한 식재료 섭취\n",
      "        조리와 저장 능력: 불과 도구 사용으로 조리, 음식 보존, 양념, 발효 등 가능\n",
      "\n",
      "        🏠 사회와 문화\n",
      "\n",
      "        사회적 존재: 가족, 부족, 국가 등 다양한 집단을 형성\n",
      "        문화적 능력: 예술, 음악, 의학, 종교, 과학 등 창조적 활동\n",
      "        학습 능력: 경험과 교육을 통해 지식과 기술을 축적하고 다음 세대로 전달\n",
      "\n",
      "        ⚡ 특별한 능력\n",
      "\n",
      "        문제 해결 능력: 도구, 언어, 과학적 사고를 통해 환경 적응\n",
      "        창의력과 상상력: 새로운 아이디어를 만들고, 가상의 세계를 상상 가능\n",
      "        협력 능력: 무리 생활과 공동체 활동으로 생존과 발전에 기여\n",
      "        \n"
     ]
    }
   ],
   "source": [
    "from animals import birds\n",
    "from animals import mammals\n",
    "\n",
    "f = birds.Birds()\n",
    "f.bird()\n",
    "\n",
    "f = mammals.mammals()\n",
    "f.human()\n"
   ]
  },
  {
   "cell_type": "markdown",
   "metadata": {},
   "source": [
    "---"
   ]
  }
 ],
 "metadata": {
  "kernelspec": {
   "display_name": "Python 3",
   "language": "python",
   "name": "python3"
  },
  "language_info": {
   "codemirror_mode": {
    "name": "ipython",
    "version": 3
   },
   "file_extension": ".py",
   "mimetype": "text/x-python",
   "name": "python",
   "nbconvert_exporter": "python",
   "pygments_lexer": "ipython3",
   "version": "3.13.6"
  }
 },
 "nbformat": 4,
 "nbformat_minor": 2
}
